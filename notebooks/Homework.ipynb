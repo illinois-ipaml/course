{
 "cells": [
  {
   "cell_type": "markdown",
   "metadata": {},
   "source": [
    "# Data Analysis and Machine Learning Applications for Physicists"
   ]
  },
  {
   "cell_type": "markdown",
   "metadata": {},
   "source": [
    "<i>Material for a [University of Illinois](http://illinois.edu) course offered by the [Physics Department](https://physics.illinois.edu). This content is maintained on [GitHub](https://github.com/illinois-mla) and is distributed under a [BSD3 license](https://opensource.org/licenses/BSD-3-Clause).</i>\n",
    "\n",
    "[Table of contents](Contents.ipynb)"
   ]
  },
  {
   "cell_type": "markdown",
   "metadata": {},
   "source": [
    "## Homework"
   ]
  },
  {
   "cell_type": "markdown",
   "metadata": {},
   "source": [
    "Homework assignments for this course are jupyter notebooks created and managed with [nbgrader](http://nbgrader.readthedocs.io/en/latest/index.html).\n",
    "\n",
    "The following homework will be made available. Update your course material to see new assignments as they are added later.\n",
    "- Homework 1: Numerical python and data handling\n",
    "- Homework 2: Data visualization\n",
    "- Homework 3: Clustering and dimensionality reduction\n",
    "- Homework 4: Nonlinear methods and density estimation\n",
    "- Homework 5: Probability and statistics\n",
    "- Homework 6: Bayesian inference\n",
    "- Homework 7: Markov-chain Monte Carlo\n",
    "- Homework 8: Supervised learning and neural networks\n",
    "\n",
    "**Remember to always work on a copy of each homework assignment (see details below).**"
   ]
  },
  {
   "cell_type": "markdown",
   "metadata": {},
   "source": [
    "### Create your personal repository"
   ]
  },
  {
   "cell_type": "markdown",
   "metadata": {},
   "source": [
    "Before you submit your first homework, you will need to create your personal repository under the [class github organization](https://github.com/illinois-mla).\n",
    "\n",
    "Click [this link](https://github.com/organizations/illinois-mla/repositories/new) and fill out the form following the example below. Be sure to replace `astudent` with your UInetID.\n",
    "\n",
    "![Create homework repo 1](img/Homework/CreateHomeworkRepo1.png)\n",
    "\n",
    "To complete your initial homework setup, create an empty directory on your laptop where you will work on homework. You will copy each assignment to this directory before working on it.\n",
    "\n",
    "#### Github experts\n",
    "\n",
    "If you are comfortable using github and git commands (or want to start learning now), you can [clone your personal repo](https://help.github.com/articles/cloning-a-repository/) instead of creating an empty directory, then follow the **Github experts** instructions below."
   ]
  },
  {
   "cell_type": "markdown",
   "metadata": {},
   "source": [
    "### Complete each homework assignment"
   ]
  },
  {
   "cell_type": "markdown",
   "metadata": {},
   "source": [
    "**Copy each homework notebook from `illinois-mla/syllabus/notebooks/homework/` to your homework directory before you start working on it (so your work is not lost when you later update `illinois-mla/syllabus`.)**\n",
    "\n",
    "Open your copy of the homework using, for example:\n",
    "```\n",
    "jupyter notebook Homework1.ipynb  # change Homework1.ipynb to the assignment you are working on\n",
    "```\n",
    "Follow the instructions in the notebook to complete the assignment. Before you turn your homework in:\n",
    "- Check that you have replaced any cells containing **YOUR CODE HERE**.\n",
    "- Remove any `raise NotImplementedError` statements.\n",
    "- Make sure everything runs as expected using **Kernel**$\\rightarrow$**Restart** followed by **Cell**$\\rightarrow$**Run All**.\n",
    "- Verify that any tests following each question run successfully.\n",
    "- Check that the size of your notebook does not exceed 1Mb, which should not normally occur. If your notebook exceeds this limit, remove any extra plots or print statements that might be generating a lot of additional output."
   ]
  },
  {
   "cell_type": "markdown",
   "metadata": {},
   "source": [
    "### Upload your homework"
   ]
  },
  {
   "cell_type": "markdown",
   "metadata": {},
   "source": [
    "This simplest way to upload your homework is to visit your personal repo, which will have a URL like:\n",
    "```\n",
    "https://github.com/illinois-mla/astudent  # replace \"astudent\" with your UInetID\n",
    "```\n",
    "You should see a page similar to the one below with an \"Upload files\" button (with your UInetID instead of `astudent`):\n",
    "\n",
    "![Create homework repo 2](img/Homework/CreateHomeworkRepo2.png)\n",
    "\n",
    "Only upload the homework notebook file you are submitting (e.g., Homework1.ipynb).  You can also click \"Settings\" from this page, in case you originally created your repo with the wrong name.\n",
    "\n",
    "After uploading your homework, check that it is visible from your personal repo URL and click on it to check its contents.\n",
    "\n",
    "#### Github experts\n",
    "\n",
    "If you are using a clone of your personal to work on homework, you can submit it with the following git commands:\n",
    "```\n",
    "git add Homework1.ipynb  # change Homework1.ipynb to the name of the file you want to upload\n",
    "git commit -m 'Submitted'\n",
    "git push\n",
    "```"
   ]
  }
 ],
 "metadata": {
  "kernelspec": {
   "display_name": "Python 3 (ipykernel)",
   "language": "python",
   "name": "python3"
  },
  "language_info": {
   "codemirror_mode": {
    "name": "ipython",
    "version": 3
   },
   "file_extension": ".py",
   "mimetype": "text/x-python",
   "name": "python",
   "nbconvert_exporter": "python",
   "pygments_lexer": "ipython3",
   "version": "3.9.7"
  }
 },
 "nbformat": 4,
 "nbformat_minor": 4
}
