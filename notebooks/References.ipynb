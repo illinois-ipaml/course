{
 "cells": [
  {
   "cell_type": "markdown",
   "metadata": {},
   "source": [
    "# Data Analysis and Machine Learning Applications for Physicists"
   ]
  },
  {
   "cell_type": "markdown",
   "metadata": {},
   "source": [
    "*Material for a* [*University of Illinois*](http://illinois.edu) *course offered by the* [*Physics Department*](https://physics.illinois.edu). *This content is maintained on* [*GitHub*](https://github.com/illinois-mla) *and is distributed under a* [*BSD3 license*](https://opensource.org/licenses/BSD-3-Clause).\n",
    "\n",
    "[Table of contents](Contents.ipynb)"
   ]
  },
  {
   "cell_type": "markdown",
   "metadata": {},
   "source": [
    "## Preparation and Required Reading"
   ]
  },
  {
   "cell_type": "markdown",
   "metadata": {},
   "source": [
    "This course assumes a basic familiarity with the core python language. If you are rusty or still learning, I recommend:\n",
    "- *A Whirlwind Tour of Python*, Jake VanderPlas: [free PDF](http://www.oreilly.com/programming/free/files/a-whirlwind-tour-of-python.pdf), [notebooks online](http://nbviewer.jupyter.org/github/jakevdp/WhirlwindTourOfPython/blob/master/Index.ipynb).\n",
    "\n",
    "We also assume a solid foundation of linear algebra, at this level:\n",
    "- *Linear Algebra Review and Reference* from Stanford CS229: [free PDF](http://cs229.stanford.edu/section/cs229-linalg.pdf)."
   ]
  },
  {
   "cell_type": "markdown",
   "metadata": {},
   "source": [
    "## Recommended Reading"
   ]
  },
  {
   "cell_type": "markdown",
   "metadata": {},
   "source": [
    "Here are some general textbook-style references that are most directly relevant to this course:\n",
    "- *Python Data Science Handbook*, Jake VanderPlas: [read online](https://jakevdp.github.io/PythonDataScienceHandbook/index.html), [buy a hardcopy](http://shop.oreilly.com/product/0636920034919.do).\n",
    "- *Statistics, Data Mining, and Machine Learning in Astronomy*, Zeljko Ivezic et al: [buy](https://www.amazon.com/Statistics-Mining-Machine-Learning-Astronomy/dp/0691151687).\n",
    "- *Think Bayes*, Allen Downey: [free PDF](http://greenteapress.com/wp/think-bayes/), [buy](https://www.amazon.com/gp/product/1449370780).\n",
    "\n",
    "There are many additional references for specific topics in the course notebooks."
   ]
  },
  {
   "cell_type": "markdown",
   "metadata": {},
   "source": [
    "## Further Reading"
   ]
  },
  {
   "cell_type": "markdown",
   "metadata": {},
   "source": [
    "Here are some additional references that I have found useful but which go somewhat beyond the scope of this course:\n",
    "- *Information Theory, Inference, and Learning Algorithms*, David MacKay: [free PDF](http://www.inference.org.uk/itprnn/book.pdf), [buy](https://www.amazon.com/dp/0521642981).\n",
    "- *Elements of Statistical Learning*, Trevor Hastie et al: [free PDF](https://web.stanford.edu/~hastie/Papers/ESLII.pdf), [buy](https://www.amazon.com/Elements-Statistical-Learning-Prediction-Statistics/dp/0387848576).\n",
    "- *Deep Learning*, Ian Goodfellow et al: [free PDF](http://www.deeplearningbook.org/), [buy](https://www.amazon.com/dp/0262035618).\n",
    "- [Lecture notes](http://cs229.stanford.edu/syllabus.html) from [Stanford Machine Learning course CS229](http://cs229.stanford.edu/)."
   ]
  },
  {
   "cell_type": "markdown",
   "metadata": {},
   "source": [
    "---\n",
    "\n",
    "**Postprocessing for html export of notebook**"
   ]
  },
  {
   "cell_type": "markdown",
   "metadata": {
    "tags": []
   },
   "source": [
    "Python postamble (do not edit):"
   ]
  },
  {
   "cell_type": "code",
   "execution_count": null,
   "metadata": {},
   "outputs": [],
   "source": [
    "!pip install jupyter_contrib_nbextensions >/dev/null\n",
    "!jupyter nbconvert *.ipynb --to html_embed"
   ]
  },
  {
   "cell_type": "markdown",
   "metadata": {
    "tags": []
   },
   "source": [
    "Please see the full instructions at\n",
    "\n",
    "https://illinois-mla.github.io/syllabus/assets/html-embed-export-tutorial.pdf\n",
    "\n",
    "for what to do after this cell executes to obtain a pdf of your notebook."
   ]
  },
  {
   "cell_type": "code",
   "execution_count": null,
   "metadata": {},
   "outputs": [],
   "source": []
  }
 ],
 "metadata": {
  "celltoolbar": "Create Assignment",
  "kernelspec": {
   "display_name": "Python 3 (ipykernel)",
   "language": "python",
   "name": "python3"
  },
  "language_info": {
   "codemirror_mode": {
    "name": "ipython",
    "version": 3
   },
   "file_extension": ".py",
   "mimetype": "text/x-python",
   "name": "python",
   "nbconvert_exporter": "python",
   "pygments_lexer": "ipython3",
   "version": "3.9.7"
  }
 },
 "nbformat": 4,
 "nbformat_minor": 4
}
