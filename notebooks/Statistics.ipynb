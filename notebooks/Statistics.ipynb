{
 "cells": [
  {
   "cell_type": "markdown",
   "metadata": {},
   "source": [
    "# Data Analysis and Machine Learning Applications for Physicists"
   ]
  },
  {
   "cell_type": "markdown",
   "metadata": {},
   "source": [
    "*Material for a* [*University of Illinois*](http://illinois.edu) *course offered by the* [*Physics Department*](https://physics.illinois.edu). *This content is maintained on* [*GitHub*](https://github.com/illinois-mla) *and is distributed under a* [*BSD3 license*](https://opensource.org/licenses/BSD-3-Clause).\n",
    "\n",
    "[Table of contents](Contents.ipynb)"
   ]
  },
  {
   "cell_type": "code",
   "execution_count": null,
   "metadata": {},
   "outputs": [],
   "source": [
    "%matplotlib inline\n",
    "import matplotlib.pyplot as plt\n",
    "import seaborn as sns; sns.set()\n",
    "import numpy as np\n",
    "import pandas as pd\n",
    "import warnings\n",
    "warnings.filterwarnings('ignore')"
   ]
  },
  {
   "cell_type": "code",
   "execution_count": null,
   "metadata": {},
   "outputs": [],
   "source": [
    "import scipy.stats"
   ]
  },
  {
   "cell_type": "markdown",
   "metadata": {},
   "source": [
    "### Load Data"
   ]
  },
  {
   "cell_type": "code",
   "execution_count": null,
   "metadata": {},
   "outputs": [],
   "source": [
    "from mls import locate_data"
   ]
  },
  {
   "cell_type": "code",
   "execution_count": null,
   "metadata": {},
   "outputs": [],
   "source": [
    "blobs = pd.read_hdf(locate_data('blobs_data.hf5'))"
   ]
  },
  {
   "cell_type": "markdown",
   "metadata": {},
   "source": [
    "## Statistical Methods"
   ]
  },
  {
   "cell_type": "markdown",
   "metadata": {},
   "source": [
    "The boundary between probability and statistics is somewhat gray (similar to astronomy and astrophysics).  However, you can roughly think of statistics as the applied cousin of probability theory."
   ]
  },
  {
   "cell_type": "markdown",
   "metadata": {},
   "source": [
    "### Expectation"
   ]
  },
  {
   "cell_type": "markdown",
   "metadata": {},
   "source": [
    "Given a probability density $P(x,y)$, and an arbitrary function $g(x,y)$ of the same random variables, the **expectation value** of $g$ is defined as:\n",
    "\n",
    "$$ \\Large\n",
    "\\langle g\\rangle \\equiv \\iint dx dy\\, g(x,y) P(x,y) \\; .\n",
    "$$\n",
    "\n",
    "Note that the result is just a number, and not a function of either $x$ or $y$. Also, $g$ might have dimensions, which do not need to match those of the probability density $P$, so $\\langle g\\rangle$ generally has dimensions.\n",
    "\n",
    "Sometimes the assumed PDF is indicated with a subscript, $\\langle g\\rangle_P$, which is helpful, but more often not shown.\n",
    "\n",
    "When $g(x,y) = x^n$, the resulting expectation value is called a **moment of x**. (The same definitions apply to $y$, via $g(x,y) = y^n$.) The case $n=0$ is just the normalization integral $\\langle \\mathbb{1}\\rangle = 1$.  Low-order moments have familiar names:\n",
    " - $n=1$ yields the **mean of x**, $\\overline{x} \\equiv \\langle x\\rangle$.\n",
    " - $n=2$ yields the **root-mean square (RMS) of x**, $\\langle x^2\\rangle$.\n",
    " \n",
    "Another named expectation value is the **variance of x**, which combines the mean and RMS,\n",
    "\n",
    "$$ \\Large\n",
    "\\sigma_x^2 \\equiv \\langle\\left( x - \\overline{x} \\right)^2\\rangle \\; ,\n",
    "$$\n",
    "\n",
    "where $\\sigma_x$ is called the **standard deviation of x**.\n",
    "\n",
    "Finally, the **correlation between x and y** is defined as:\n",
    "$$ \\Large\n",
    "\\text{Corr}_{xy} \\equiv \\langle\\left( x - \\overline{x}\\right) \\left( y - \\overline{y}\\right)\\rangle \\; .\n",
    "$$\n",
    "\n",
    "A useful combination of the correlation and variances is the **correlation coefficient**,\n",
    "\n",
    "$$ \\Large\n",
    "\\rho_{xy} \\equiv \\frac{\\text{Corr}_{x,y}}{\\sigma_x \\sigma_y} \\; ,\n",
    "$$\n",
    "\n",
    "which, by construction, must be in the range $[-1, +1]$. Larger values of $|\\rho_{xy}|$ indicate that $x$ and $y$ are measuring related properties of the outcome so, together, carry less information than when $\\rho_{xy} \\simeq 0$. In the limit of $|\\rho_{xy}| = 1$, $y = y(x)$ is entirely determined by $x$, so carries no new information.\n",
    "\n",
    "We say that the variance and correlation are both *second-order moments* since they are expectation values of second-degree polynomials.\n",
    "\n",
    "We call the random variables $x$ and $y$ **uncorrelated** when:\n",
    "\n",
    "$$ \\Large\n",
    "x,y\\, \\text{uncorrelated}\\quad\\Rightarrow\\quad \\text{Corr}_{xy} = \\rho_{xy} = 0 \\; .\n",
    "$$\n",
    "\n",
    "To obtain an **empirical estimate** of the quantities above derived from your data, use the corresponding numpy functions, e.g."
   ]
  },
  {
   "cell_type": "code",
   "execution_count": null,
   "metadata": {},
   "outputs": [],
   "source": [
    "np.mean(blobs, axis=0)"
   ]
  },
  {
   "cell_type": "code",
   "execution_count": null,
   "metadata": {},
   "outputs": [],
   "source": [
    "np.var(blobs, axis=0)"
   ]
  },
  {
   "cell_type": "code",
   "execution_count": null,
   "metadata": {},
   "outputs": [],
   "source": [
    "np.std(blobs, axis=0)"
   ]
  },
  {
   "cell_type": "code",
   "execution_count": null,
   "metadata": {},
   "outputs": [],
   "source": [
    "assert np.allclose(np.std(blobs, axis=0) ** 2, np.var(blobs, axis=0))"
   ]
  },
  {
   "cell_type": "code",
   "execution_count": null,
   "metadata": {},
   "outputs": [],
   "source": [
    "assert np.allclose(\n",
    "    np.mean((blobs - np.mean(blobs, axis=0)) ** 2, axis=0),\n",
    "    np.var(blobs, axis=0))"
   ]
  },
  {
   "cell_type": "markdown",
   "metadata": {},
   "source": [
    "The definition \n",
    "\n",
    "$$ \\Large\n",
    "\\sigma_x^2 = \\langle\\left( x - \\overline{x} \\right)^2\\rangle\n",
    "$$, \n",
    "\n",
    "suggests that two passes through the data are necessary to calculate variance: one to calculate $\\overline{x}$ and another to calculate the residual expectation. Expanding this definition, we obtain a formula\n",
    "\n",
    "$$ \\Large\n",
    "\\sigma_x^2 = \\langle x^2\\rangle - \\langle x\\rangle^2\n",
    "$$\n",
    "\n",
    "that can be evaluated in a single pass by simultaneously accumulating the first and second moments of $x$. However, this approach should generally not be used since it involves a cancellation between relatively large quantities that is subject to large round-off error. More details and recommended one-pass (aka \"online\") formulas are [here](https://en.wikipedia.org/wiki/Algorithms_for_calculating_variance)."
   ]
  },
  {
   "cell_type": "markdown",
   "metadata": {},
   "source": [
    "### Covariance"
   ]
  },
  {
   "cell_type": "markdown",
   "metadata": {},
   "source": [
    "It is useful to construct the **covariance matrix** $C$ with elements:\n",
    "\n",
    "$$ \\Large\n",
    "C \\equiv \\begin{bmatrix}\n",
    "\\sigma_x^2 & \\rho_{x,y} \\sigma_x \\sigma_y \\\\\n",
    "\\rho_{x,y} \\sigma_x \\sigma_y & \\sigma_y^2 \\\\\n",
    "\\end{bmatrix}\n",
    "$$\n",
    "\n",
    "With more than 2 random variables, $x_0, x_1, \\ldots$, this matrix generalizes to:\n",
    "\n",
    "$$ \\Large\n",
    "C_{ij} = \\langle \\left( x_i - \\overline{x}_i\\right) \\left( x_j - \\overline{x}_j\\right)\\rangle \\; .\n",
    "$$\n",
    "\n",
    "Comparing with the definitions above, we find variances on the diagonal:\n",
    "\n",
    "$$ \\Large\n",
    "C_{ii} = \\sigma_i^2\n",
    "$$\n",
    "\n",
    "and symmetric correlations on the off-diagonals:\n",
    "\n",
    "$$ \\Large\n",
    "C_{ij} = C_{ji} = \\rho_{ij} \\sigma_i \\sigma_j \\; .\n",
    "$$\n",
    "\n",
    "(The covariance is not only symmetric but also [positive definite](https://en.wikipedia.org/wiki/Positive-definite_matrix)).\n",
    "\n",
    "The covariance matrix is similar to a pairplot, with each $2\\times 2$ submatrix\n",
    "\n",
    "$$ \\Large\n",
    "\\begin{bmatrix}\n",
    "\\sigma_i^2 & \\rho_{ij} \\sigma_i \\sigma_j \\\\\n",
    "\\rho_{ij} \\sigma_i \\sigma_j & \\sigma_j^2 \\\\\n",
    "\\end{bmatrix}\n",
    "$$\n",
    "\n",
    "describing a 2D elllipse in the $(x_i, x_j)$ plane:\n",
    "![Ellipse Parameters](img/Statistics/Ellipse.png)\n",
    "\n",
    "Note that you can directly read off the correlation coefficient $\\rho_{ij}$ from any of the points where the ellipse touches its bounding box. The ellipse rotation angle $\\theta$ is given by:\n",
    "\n",
    "$$ \\Large\n",
    "\\tan 2\\theta = \\frac{2 C_{ij}}{C_{ii} - C_{jj}} = \\frac{2\\rho_{ij}\\sigma_i\\sigma_j}{\\sigma_i^2 - \\sigma_j^2}\n",
    "$$\n",
    "\n",
    "and its [principal axes](https://en.wikipedia.org/wiki/Semi-major_and_semi-minor_axes) have lengths:\n",
    "\n",
    "$$ \\Large\n",
    "a_\\pm = 2\\sqrt{C_{ii} + C_{jj} \\pm d} \\quad \\text{with} \\quad\n",
    "d = \\sqrt{C_{11}^2 - 2 (1 - 2\\rho^2) C_{11} C_{22} + C_{22}^2} \\; .\n",
    "$$\n",
    "\n",
    "For practical calculations, the Singular Value Decomposition (SVD) of the covariance is useful:"
   ]
  },
  {
   "cell_type": "markdown",
   "metadata": {},
   "source": [
    "```\n",
    "U, s, _ = np.linalg.svd(C)\n",
    "theta = np.arctan2(U[1, 0], U[0, 0])\n",
    "ap, am = 2 * np.sqrt(s)\n",
    "```"
   ]
  },
  {
   "cell_type": "markdown",
   "metadata": {},
   "source": [
    "The above assumes $C$ is $2\\times 2$. In the general $D\\times D$ case, use `C[[[j], [i]], [[j, i]]]` to pick out the $(i,j)$ $2\\times 2$ submatrix.\n",
    "\n",
    "A multivariate Gaussian PDF integrated over this ellipse (and marginalized over any additional dimensions) has a total probability of about 39%, also known as its **confidence level (CL)**.  We will see below how to calculate this CL and scale the ellipse for other CLs."
   ]
  },
  {
   "cell_type": "markdown",
   "metadata": {
    "solution2": "shown",
    "solution2_first": true
   },
   "source": [
    "**EXERCISE:** Calculate the empirical covariance matrix of the `blobs` dataset using `np.cov` (pay attention to the `rowvar` arg). Next, calculate the ellipse rotation angles $\\theta$ in degrees for each of this matrix's 2D projections."
   ]
  },
  {
   "cell_type": "code",
   "execution_count": null,
   "metadata": {
    "solution2": "shown"
   },
   "outputs": [],
   "source": [
    "C = np.cov(blobs, rowvar=False)\n",
    "for i in range(3):\n",
    "    for j in range(i + 1, 3):\n",
    "        U, s, _ = np.linalg.svd(C[[[j], [i]], [[j, i]]])\n",
    "        theta = np.arctan2(U[1, 0], U[0, 0])\n",
    "        print(i, j, np.round(np.degrees(theta), 1))"
   ]
  },
  {
   "cell_type": "markdown",
   "metadata": {
    "solution2": "shown"
   },
   "source": [
    "Recall that the `blobs` data was generated as a mixture of three Gaussian blobs, each with different parameters. However, describing a dataset with a single covariance matrix suggests a single Gaussian model. The lesson is that \n",
    "we can calculate an empirical covariance for *any* data, whether or not it is well described a single Gaussian."
   ]
  },
  {
   "cell_type": "markdown",
   "metadata": {},
   "source": [
    "### Jensen's Inequality"
   ]
  },
  {
   "cell_type": "markdown",
   "metadata": {},
   "source": [
    "[Convex functions](https://en.wikipedia.org/wiki/Convex_function) play a special role in optimization algorithms (which we will talk more about soon) since they have a single global minimum with no secondary local minima. The parabola $g(x) = a (x - x_0)^2 + b$ is a simple 1D example, having its minimum value of $b$ at $x = x_0$, but convex functions can have any dimensionality and need not be parabolic (second order)."
   ]
  },
  {
   "cell_type": "markdown",
   "metadata": {},
   "source": [
    "Expectations involving a convex function $g$ satisfy [Jensen's inequality](https://en.wikipedia.org/wiki/Jensen's_inequality), which we will use later:\n",
    "\n",
    "$$ \\Large\n",
    "g(\\langle \\vec{x} \\ldots\\rangle) \\le \\langle g(\\vec{x})\\rangle \\; .\n",
    "$$\n",
    "\n",
    "In other words, the expectation value of $g$ is bounded below by $g$ evaluated at the PDF mean, for any PDF. Note that the two sides of this equation swap the order in which the operators $g(\\cdot)$ and $\\langle\\cdot\\rangle$ are applied to $\\vec{x}$."
   ]
  },
  {
   "cell_type": "code",
   "execution_count": null,
   "metadata": {},
   "outputs": [],
   "source": [
    "def jensen(a=1, b=1, c=1):\n",
    "    x = np.linspace(-1.5 * c, 1.5 * c, 500)\n",
    "    g = a * x ** 2 + b\n",
    "    P = (np.abs(x) < c) * 0.5 / c\n",
    "    plt.fill_between(x, P, label='$P(x)$')\n",
    "    plt.plot(x, P)\n",
    "    plt.plot(x, g, label='$g(x)$')\n",
    "    plt.legend(loc='upper center', frameon=True)\n",
    "    plt.axvline(0, c='k', ls=':')\n",
    "    plt.axhline(b, c='r', ls=':')\n",
    "    plt.axhline(a * c ** 2 + b, c='b', ls=':')\n",
    "    plt.xlabel('$x$')\n",
    "    \n",
    "jensen()"
   ]
  },
  {
   "cell_type": "markdown",
   "metadata": {
    "solution2": "hidden",
    "solution2_first": true
   },
   "source": [
    "**EXERCISE:** Match the following values to the dotted lines in the graph above of the function $g(x)$ and probability density $P(x)$:\n",
    " 1. $\\langle x\\rangle = \\int dx\\, x P(x)$\n",
    " 2. $\\langle g(x)\\rangle = \\int dx\\, g(x)\\,P(x)$\n",
    " 3. $g(\\langle x\\rangle) = g\\left( \\int dx\\, x P(x)\\right)$\n",
    " \n",
    "Is $g(x)$ convex? Is Jensen's inequality satisfied?"
   ]
  },
  {
   "cell_type": "markdown",
   "metadata": {
    "solution2": "hidden"
   },
   "source": [
    "Answer:\n",
    " 1. Vertical (black) line.\n",
    " 2. Upper horizontal (blue) line.\n",
    " 3. Lower horizontal (red) line.\n",
    " \n",
    "Jensen's inequality is satisfied, as required since $g(x)$ is convex."
   ]
  },
  {
   "cell_type": "markdown",
   "metadata": {},
   "source": [
    "### Useful Distributions"
   ]
  },
  {
   "cell_type": "markdown",
   "metadata": {},
   "source": [
    "There are many named statistical distributions with useful properties and/or interesting history.  For example, in the [scipy.stats](https://docs.scipy.org/doc/scipy/reference/stats.html) module we find a large number of 1D continuous random variable distributions:"
   ]
  },
  {
   "cell_type": "code",
   "execution_count": null,
   "metadata": {},
   "outputs": [],
   "source": [
    "len(scipy.stats.rv_continuous.__subclasses__())"
   ]
  },
  {
   "cell_type": "markdown",
   "metadata": {},
   "source": [
    "and a smaller number of 1D discrete distributions:"
   ]
  },
  {
   "cell_type": "code",
   "execution_count": null,
   "metadata": {},
   "outputs": [],
   "source": [
    "len(scipy.stats.rv_discrete.__subclasses__())"
   ]
  },
  {
   "cell_type": "markdown",
   "metadata": {},
   "source": [
    "and multidimensional continuous distributions:"
   ]
  },
  {
   "cell_type": "code",
   "execution_count": null,
   "metadata": {},
   "outputs": [],
   "source": [
    "len(scipy.stats._multivariate.multi_rv_generic.__subclasses__())"
   ]
  },
  {
   "cell_type": "markdown",
   "metadata": {},
   "source": [
    "You will likely never need most of this distributions, but it is useful to know about them. Most have special applications that they were created for, but can also be useful as building blocks of an empirical distribution when you just want something that looks like the data.\n",
    "\n",
    "It is useful to group the large number of 1D continuous distributions according to their general shape. We will use the function below for a quick visual tour of some PDFs in each group:"
   ]
  },
  {
   "cell_type": "code",
   "execution_count": null,
   "metadata": {},
   "outputs": [],
   "source": [
    "def pdf_demo(xlo, xhi, **kwargs):\n",
    "    x = np.linspace(xlo, xhi, 200)\n",
    "    cmap = sns.color_palette().as_hex()\n",
    "    for i, name in enumerate(kwargs):\n",
    "        for j, arglist in enumerate(kwargs[name].split(';')):\n",
    "            args = eval('dict(' + arglist + ')')\n",
    "            y = eval('scipy.stats.' + name)(**args).pdf(x)\n",
    "            plt.plot(x, y, c=cmap[i], ls=('-','--',':')[j], label=name)\n",
    "    plt.xlim(x[0], x[-1])\n",
    "    plt.legend(fontsize='large')"
   ]
  },
  {
   "cell_type": "markdown",
   "metadata": {},
   "source": [
    "First, the centered symmetric peaked distributions, including the ubiquitous Gaussian (here called \"norm\") and Lorentzian (here called \"cauchy\").  Each of these can be re-centered using the `loc` (location) parameter and broadened using `scale`:"
   ]
  },
  {
   "cell_type": "code",
   "execution_count": null,
   "metadata": {},
   "outputs": [],
   "source": [
    "pdf_demo(-5, +5, laplace='scale=1', norm='scale=1', cauchy='scale=1', logistic='scale=1')"
   ]
  },
  {
   "cell_type": "markdown",
   "metadata": {},
   "source": [
    "There are also some more specialized asymmetric \"bump\" distributions that are particularly useful for modeling histograms of reconstructed particle masses (even more specialized is the Cruijff function used [here](https://arxiv.org/abs/1005.4087)):"
   ]
  },
  {
   "cell_type": "code",
   "execution_count": null,
   "metadata": {},
   "outputs": [],
   "source": [
    "pdf_demo(0, 10, crystalball='beta=1,m=3,loc=6;beta=10,m=3,loc=6', argus='chi=0.5,loc=5,scale=2;chi=1.5,loc=5,scale=2')"
   ]
  },
  {
   "cell_type": "markdown",
   "metadata": {},
   "source": [
    "Next, the \"one-sided\" distributions that are only defined for $x \\ge 0$. Most of these smoothly transition from peaking at the origin to peaking at $x > 0$ as some parameter is varied. These are useful building blocks for quantities that must be positive, e.g., errors or densities."
   ]
  },
  {
   "cell_type": "code",
   "execution_count": null,
   "metadata": {},
   "outputs": [],
   "source": [
    "pdf_demo(-0.5, 5, gamma='a=1;a=2', lognorm='s=0.5;s=1.5', chi2='df=2;df=3')"
   ]
  },
  {
   "cell_type": "markdown",
   "metadata": {},
   "source": [
    "Another useful group are the \"bounded\" distributions, especially the versatile two-parameter [beta distribution](https://en.wikipedia.org/wiki/Beta_distribution):"
   ]
  },
  {
   "cell_type": "code",
   "execution_count": null,
   "metadata": {},
   "outputs": [],
   "source": [
    "pdf_demo(-0.1, 1.1, beta='a=.7,b=.7;a=1.5,b=1.5;a=.9,b=1.5', cosine='loc=0.5,scale=0.159',\n",
    "         uniform='scale=1')"
   ]
  },
  {
   "cell_type": "markdown",
   "metadata": {},
   "source": [
    "All of the 1D continuous distributions share the same API (via a [common base class](https://docs.scipy.org/doc/scipy/reference/generated/scipy.stats.rv_continuous.html)), and allow you to perform useful operations including:\n",
    " - Evaluate the PDF, log(PDF), CDF or log(CDF).\n",
    " - Generate random values from the distribution.\n",
    " - Calculate expectation values of moment functions or even arbitrary functions.\n",
    "\n",
    "The API also allows you to estimate the values of distribution parameters that best describe some data, but we will soon see better approaches to this \"regression\" problem."
   ]
  },
  {
   "cell_type": "code",
   "execution_count": null,
   "metadata": {},
   "outputs": [],
   "source": [
    "def rv_continuous_demo(xlo, xhi, dist, seed=123, n=500):\n",
    "    x = np.linspace(xlo, xhi, 200)\n",
    "    P = dist.pdf(x)\n",
    "    plt.plot(x, P, ls='-', label='PDF $P(x)$')\n",
    "\n",
    "    g = lambda x: (0.7 - 0.3 * (x - xlo) / (xhi - xlo)) * np.percentile(P, 95)\n",
    "    plt.plot(x, g(x), ':', label='$g(x)$')\n",
    "    print('<g> =', dist.expect(g))\n",
    "    \n",
    "    gen = np.random.RandomState(seed=seed)\n",
    "    data = dist.rvs(size=n, random_state=gen)\n",
    "    plt.hist(data, range=(xlo, xhi), bins=20, histtype='stepfilled',\n",
    "             alpha=0.25, density=True, stacked = True, label='Random')\n",
    "    \n",
    "    plt.ylim(0, None)\n",
    "    plt.grid(axis='y')\n",
    "    plt.legend(loc='upper left', fontsize='large')\n",
    "    rhs = plt.twinx()\n",
    "    rhs.set_ylabel('CDF')\n",
    "    rhs.set_ylim(0., 1.05)\n",
    "    rhs.grid('off')\n",
    "    rhs.plot(x, dist.cdf(x), 'k--')\n",
    "    plt.xlim(xlo, xhi)"
   ]
  },
  {
   "cell_type": "code",
   "execution_count": null,
   "metadata": {},
   "outputs": [],
   "source": [
    "rv_continuous_demo(-4, +4, scipy.stats.norm())"
   ]
  },
  {
   "cell_type": "code",
   "execution_count": null,
   "metadata": {},
   "outputs": [],
   "source": [
    "rv_continuous_demo(0, 1, scipy.stats.beta(a=1.5,b=0.9))"
   ]
  },
  {
   "cell_type": "markdown",
   "metadata": {},
   "source": [
    "The [chi2 distribution](https://en.wikipedia.org/wiki/Chi-squared_distribution) ($\\chi^2$) is especially useful for confidence interval calculations. Here are two handy utilities that you will likely need at some point (using the CDF and [inverse-CDF](https://docs.scipy.org/doc/scipy/reference/generated/scipy.stats.rv_continuous.ppf.html#scipy.stats.rv_continuous.ppf) functions):"
   ]
  },
  {
   "cell_type": "code",
   "execution_count": null,
   "metadata": {},
   "outputs": [],
   "source": [
    "def nsigmas_to_CL(nsigmas=1., D=1):\n",
    "    return scipy.stats.chi2.cdf(x=nsigmas ** 2, df=D)\n",
    "def CL_to_nsigmas(CL=0.95, D=1):\n",
    "    return np.sqrt(scipy.stats.chi2.ppf(q=CL, df=D))"
   ]
  },
  {
   "cell_type": "markdown",
   "metadata": {},
   "source": [
    "For example, a \"1-sigma\" error bar contains ~68% of a Gaussian distribution in 1D, but a 2D \"1-sigma\" contour only contains ~39%:"
   ]
  },
  {
   "cell_type": "code",
   "execution_count": null,
   "metadata": {},
   "outputs": [],
   "source": [
    "nsigmas_to_CL(nsigmas=1, D=[1, 2])"
   ]
  },
  {
   "cell_type": "markdown",
   "metadata": {},
   "source": [
    "To find the number of sigmas required to enclose a specific integrated probability (aka \"confidence level (CL)\") in D dimensions:"
   ]
  },
  {
   "cell_type": "code",
   "execution_count": null,
   "metadata": {},
   "outputs": [],
   "source": [
    "CL_to_nsigmas(CL=0.95, D=[1, 2])"
   ]
  },
  {
   "cell_type": "markdown",
   "metadata": {},
   "source": [
    "Scale $\\sigma_i$ and $\\sigma_j$ both by `nsigmas` to adjust the ellipses we drew above to enclose a desired CL (or, equivalently, scale the covariance matrix by `nsigmas**2`)."
   ]
  },
  {
   "cell_type": "markdown",
   "metadata": {},
   "source": [
    "Finally, there are some essential discrete random variable distributions, where the PDF is replaced with a [probability mass function (PMF)](https://en.wikipedia.org/wiki/Probability_mass_function):"
   ]
  },
  {
   "cell_type": "code",
   "execution_count": null,
   "metadata": {},
   "outputs": [],
   "source": [
    "def pmf_demo(klo, khi, **kwargs):\n",
    "    k = np.arange(klo, khi + 1)\n",
    "    cmap = sns.color_palette().as_hex()\n",
    "    histopts = {'bins': khi-klo+1, 'range': (klo-0.5,khi+0.5), 'histtype': 'step', 'lw': 2}\n",
    "    for i, name in enumerate(kwargs):\n",
    "        for j, arglist in enumerate(kwargs[name].split(';')):\n",
    "            args = eval('dict(' + arglist + ')')\n",
    "            y = eval('scipy.stats.' + name)(**args).pmf(k)\n",
    "            plt.hist(k, weights=y, color=cmap[i], ls=('-','--',':')[j], label=name, **histopts)\n",
    "    plt.legend(fontsize='large')"
   ]
  },
  {
   "cell_type": "markdown",
   "metadata": {},
   "source": [
    "The one-sided [Poisson distribution](https://en.wikipedia.org/wiki/Poisson_distribution), which describes the statistics of (uncorrelated) counting measurement (which are ubiquitous in astronomy and particle physics):"
   ]
  },
  {
   "cell_type": "code",
   "execution_count": null,
   "metadata": {},
   "outputs": [],
   "source": [
    "pmf_demo(0, 10, poisson='mu=2;mu=3;mu=4')"
   ]
  },
  {
   "cell_type": "markdown",
   "metadata": {},
   "source": [
    "The bounded [binomial distribution](https://en.wikipedia.org/wiki/Binomial_distribution), which is related to the beta distribution above, and describes the statistics of ratios of counting measurements (efficiency, purity, completeness, ...):"
   ]
  },
  {
   "cell_type": "code",
   "execution_count": null,
   "metadata": {},
   "outputs": [],
   "source": [
    "pmf_demo(0, 10, binom='n=10,p=0.2;n=10,p=0.5;n=10,p=0.8')"
   ]
  },
  {
   "cell_type": "markdown",
   "metadata": {
    "solution2": "shown",
    "solution2_first": true
   },
   "source": [
    "**EXERCISE:** Fill in the function below to generate `nsample` samples of size `size` from an arbitrary 1D continuous distribution, and then display an `sns.distplot` of the mean values of each generated sample:\n",
    "```\n",
    "def central_limit_demo(dist, nsample, size, seed=123):\n",
    "    gen = np.random.RandomState(seed=seed)\n",
    "    ...\n",
    "```\n",
    "Test your function using:\n",
    "```\n",
    "central_limit_demo(scipy.stats.uniform(scale=1), nsample=100, size=100)\n",
    "central_limit_demo(scipy.stats.lognorm(s=0.5), nsample=100, size=100)\n",
    "```"
   ]
  },
  {
   "cell_type": "code",
   "execution_count": null,
   "metadata": {
    "solution2": "shown"
   },
   "outputs": [],
   "source": [
    "def central_limit_demo(dist, nsample, size, seed=123):\n",
    "    gen = np.random.RandomState(seed=seed)\n",
    "    means = []\n",
    "    for i in range(nsample):\n",
    "        data = dist.rvs(size=size, random_state=gen)\n",
    "        means.append(np.mean(data))\n",
    "    sns.distplot(means)"
   ]
  },
  {
   "cell_type": "code",
   "execution_count": null,
   "metadata": {
    "solution2": "shown"
   },
   "outputs": [],
   "source": [
    "central_limit_demo(scipy.stats.uniform(scale=1), nsample=100, size=100)\n",
    "central_limit_demo(scipy.stats.lognorm(s=0.5), nsample=100, size=100)"
   ]
  },
  {
   "cell_type": "markdown",
   "metadata": {
    "solution2": "shown"
   },
   "source": [
    "This exercise provides a numerical demonstration of the [central limit theorem](https://en.wikipedia.org/wiki/Central_limit_theorem), which asserts that the mean (or sum) of samples drawn from any distribution tends to have a Gaussian distribution.\n",
    "\n",
    "Here is a nicer [interactive demonstration](http://students.brown.edu/seeing-theory/probability-distributions/index.html#section3) you can experiment with."
   ]
  },
  {
   "cell_type": "markdown",
   "metadata": {},
   "source": [
    "For a more powerful statistical toolbox than [scipy.stats](https://docs.scipy.org/doc/scipy/reference/stats.html), try the python [statsmodels](http://www.statsmodels.org/) package. Going beyond python, the [R language](https://www.r-project.org/about.html) is designed specifically for \"statistical computing\" (and [integrated in jupyter](https://irkernel.github.io/)), and [RooFit](https://root.cern.ch/roofit-20-minutes) is a \"a toolkit for modeling the expected distribution of events in a physics analysis\" integrated into the [ROOT framework](https://root.cern.ch/).\n",
    "\n",
    "We will be soon be talking more about the general problem of \"fitting\" the parameters of a distribution to match some data."
   ]
  }
 ],
 "metadata": {
  "kernelspec": {
   "display_name": "Python 3 (ipykernel)",
   "language": "python",
   "name": "python3"
  },
  "language_info": {
   "codemirror_mode": {
    "name": "ipython",
    "version": 3
   },
   "file_extension": ".py",
   "mimetype": "text/x-python",
   "name": "python",
   "nbconvert_exporter": "python",
   "pygments_lexer": "ipython3",
   "version": "3.9.7"
  }
 },
 "nbformat": 4,
 "nbformat_minor": 4
}
